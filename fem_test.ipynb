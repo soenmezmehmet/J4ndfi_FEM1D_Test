{
 "cells": [
  {
   "cell_type": "code",
   "execution_count": null,
   "metadata": {},
   "outputs": [],
   "source": [
    "import math\n",
    "from typing import Tuple\n",
    "from dataclasses import dataclass\n",
    "import matplotlib.pyplot as plt\n",
    "import matplotlib.gridspec as gridspec\n",
    "import torch\n",
    "\n",
    "from fem_1d.core import Fem1D, MaterialProperties, BoundaryConditions\n"
   ]
  },
  {
   "cell_type": "code",
   "execution_count": null,
   "metadata": {},
   "outputs": [],
   "source": [
    "torch.set_default_dtype(torch.float64)\n",
    "\n",
    "# Define nodes and connectivity\n",
    "nodes = torch.linspace(0, 70, 11).view(-1, 1)\n",
    "conn_list = torch.tensor([[1, 3, 2], [3, 5, 4], [5, 7, 6], [7, 9, 8], [9, 11, 10]])\n",
    "conn_list = conn_list[:, [0, 2, 1]]  # Reorder to [left, mid, right]\n"
   ]
  },
  {
   "cell_type": "code",
   "execution_count": null,
   "metadata": {},
   "outputs": [],
   "source": [
    "# Material properties\n",
    "E = 2.1e11 * torch.ones(conn_list.size(0), 1)\n",
    "\n",
    "# Three cables with the same cross-sectional area\n",
    "area = 3 * 89.9e-6 * torch.ones(conn_list.size(0), 1)\n",
    "\n",
    "# Density derived from weight per unit length\n",
    "RHO = 0.861 / 89.9e-6\n",
    "BODY_FORCE = RHO * 9.81\n",
    "# BODY_FORCE = 0  # Uncomment to disable gravity\n",
    "\n",
    "mat = MaterialProperties(E=E, area=area, b=BODY_FORCE)\n"
   ]
  },
  {
   "cell_type": "code",
   "execution_count": null,
   "metadata": {},
   "outputs": [],
   "source": [
    "f_sur = torch.zeros(11)\n",
    "f_sur[-1] = (300 + 630) * 9.81\n",
    "# f_sur[-1] = 0  # Uncomment for no load at the end\n",
    "\n",
    "u_d = torch.tensor([0.])\n",
    "drlt_dofs = torch.tensor([1])\n",
    "\n",
    "boundary_conditions = BoundaryConditions(u_d=u_d, drlt_dofs=drlt_dofs, f_sur=f_sur)\n"
   ]
  },
  {
   "cell_type": "code",
   "execution_count": null,
   "metadata": {},
   "outputs": [],
   "source": [
    "fem = Fem1D(nodes, conn_list, mat, boundary_conditions, nqp=2)\n",
    "fem.preprocess()\n",
    "fem.solve()\n",
    "fem.postprocess()\n",
    "fem.report()\n",
    "fem.plot()\n"
   ]
  }
 ],
 "metadata": {
  "kernelspec": {
   "display_name": "NILFEM_py310",
   "language": "python",
   "name": "python3"
  },
  "language_info": {
   "name": "python",
   "version": "3.10.16"
  },
  "orig_nbformat": 4
 },
 "nbformat": 4,
 "nbformat_minor": 2
}
